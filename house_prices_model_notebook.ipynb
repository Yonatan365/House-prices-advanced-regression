{
  "cells": [
    {
      "metadata": {
        "_uuid": "400fd54e31b2177494ec24ce0b6d9f0a8a92cacf",
        "_execution_state": "idle",
        "_cell_guid": "a5dc9f51-9343-4e1f-a20a-9f0d9dd295a0",
        "trusted": true
      },
      "cell_type": "code",
      "source": "# This Python 3 environment comes with many helpful analytics libraries installed\n# It is defined by the kaggle/python docker image: https://github.com/kaggle/docker-python\n# For example, here's several helpful packages to load in \n\nimport numpy as np # linear algebra\nimport pandas as pd # data processing, CSV file I/O (e.g. pd.read_csv)\nimport matplotlib.pyplot as plt\n\n# Input data files are available in the \"../input/\" directory.\n# For example, running this (by clicking run or pressing Shift+Enter) will list the files in the input directory\n\nfrom subprocess import check_output\nprint(check_output([\"ls\", \"../input\"]).decode(\"utf8\"))\n\n# Any results you write to the current directory are saved as output.",
      "execution_count": 1,
      "outputs": [
        {
          "output_type": "stream",
          "text": "sample_submission.csv\ntest.csv\ntrain.csv\n\n",
          "name": "stdout"
        }
      ]
    },
    {
      "metadata": {
        "_uuid": "17907c74cfa4e72a01e7013017454110c3248631",
        "collapsed": true,
        "_execution_state": "idle",
        "_cell_guid": "ed289b02-d6da-4204-bc8b-86a90be2f764",
        "trusted": true
      },
      "cell_type": "code",
      "source": "from sklearn.preprocessing import normalize\ndef get_X_y(filename):\n    df = pd.read_csv(\"../input/\" + filename)\n    y = np.log(df.SalePrice + 1)\n    df = df.drop(['LotFrontage','MasVnrArea','GarageYrBlt','SalePrice','OverallQual'], axis=1)\n    df_num = df.loc[:,df.dtypes!='object']\n    df_obj = df.loc[:,df.dtypes=='object']\n    df_num = pd.DataFrame(normalize(df_num, axis=0), columns = df_num.columns)\n    dummies = pd.get_dummies(df_obj)\n    X = pd.concat([df_num, dummies], axis=1)\n    print(X.isnull().sum()[X.isnull().sum()!=0])\n    print(\"X shape: \", X.shape, \", y shape: \", y.shape)\n    return X, y\n\ndef rmsle(preds, y):\n    sum = 0.0\n    for x in range(len(preds)):\n        p = np.log(preds[x] + 1)\n        r = np.log(y[x] + 1)\n        sum = sum + (p - r)**2\n    return (sum/len(preds))**0.5\n\ndef rmsle_tf(preds, y):\n#     return tf.sqrt(tf.reduce_mean(tf.square( tf.log(tf.add(preds,tf.constant(1.0, dtype=tf.float32))) - tf.log(tf.add(y,tf.constant(1.0, dtype=tf.float32)) ))))\n    return tf.sqrt(tf.reduce_mean(tf.square( preds - y)))\n#     return tf.sqrt(tf.reduce_mean(tf.square))\n# print(df_num.shape, dummies.shape)\n# for col in df_obj:\n#     print(col, \":\", df_obj[col].unique())",
      "execution_count": 2,
      "outputs": []
    },
    {
      "metadata": {
        "_uuid": "c9f46d6dff0d72611ce897149cd1256b906f9d1a",
        "_execution_state": "idle",
        "_cell_guid": "354a925b-ce56-4c13-92a7-a5c5d48cf729",
        "trusted": true
      },
      "cell_type": "code",
      "source": "from sklearn.model_selection import train_test_split\nX, y = get_X_y('train.csv')\nX_train, X_test, y_train, y_test = train_test_split(X, y, test_size=0.2)\nX_train.shape",
      "execution_count": 3,
      "outputs": [
        {
          "output_type": "stream",
          "text": "Series([], dtype: int64)\nX shape:  (1460, 285) , y shape:  (1460,)\n",
          "name": "stdout"
        },
        {
          "output_type": "execute_result",
          "execution_count": 3,
          "data": {
            "text/plain": "(1168, 285)"
          },
          "metadata": {}
        }
      ]
    },
    {
      "metadata": {
        "_uuid": "616002ce5bd80d95cfcda68a1d7f70d1f586f812",
        "_execution_state": "idle",
        "_cell_guid": "88b7beed-3d53-4a11-bf65-5a5ceac76895",
        "trusted": true
      },
      "cell_type": "code",
      "source": "from sklearn.ensemble import RandomForestRegressor\nfrom sklearn.linear_model import *\nfrom sklearn.metrics import mean_squared_log_error\nfrom sklearn.metrics import mean_squared_error\nfrom math import sqrt\n\ndef regressor(model):\n    model.fit(X_train,y_train)\n    preds = model.predict(X_test)\n#     score = rmsle(preds, y_test.values)\n    print(\"Score: \", model.score(X_test, y_test), \", rmse: \", np.sqrt(mean_squared_error(y_test.values, preds)))\n\nlr = LinearRegression()\nrf = RandomForestRegressor(n_estimators=100)\nregressor(rf)",
      "execution_count": 4,
      "outputs": [
        {
          "output_type": "stream",
          "text": "Score:  0.857312071361 , rmse:  0.154140393059\n",
          "name": "stdout"
        }
      ]
    },
    {
      "metadata": {
        "_uuid": "650374481c0d4920fe84d7a3f71042868a7ef8c8",
        "_execution_state": "idle",
        "_cell_guid": "7a8e3d4d-05d6-4029-ac39-016cd6774966",
        "trusted": true
      },
      "cell_type": "code",
      "source": "regressor(Lasso())",
      "execution_count": 5,
      "outputs": [
        {
          "output_type": "stream",
          "text": "Score:  -8.57802215091e-05 , rmse:  0.40807639273\n",
          "name": "stdout"
        }
      ]
    },
    {
      "metadata": {
        "_cell_guid": "cc335788-4a3a-4f2d-90c5-b684f9e5bc6a",
        "_uuid": "3344116e73affa6170a6b24d71d9f19a5195b67b",
        "trusted": true
      },
      "cell_type": "code",
      "source": "regressor(Ridge())",
      "execution_count": 6,
      "outputs": [
        {
          "output_type": "stream",
          "text": "Score:  0.838661111825 , rmse:  0.163905065342\n",
          "name": "stdout"
        }
      ]
    },
    {
      "metadata": {
        "_uuid": "7609e2f8db6ef9c53e2e824e29b46414ddacaa8a",
        "_execution_state": "idle",
        "_cell_guid": "c6a205d4-2798-4563-a008-39067f958638",
        "trusted": true
      },
      "cell_type": "code",
      "source": "import xgboost\nxgb = xgboost.XGBRegressor(n_estimators=100, learning_rate=0.08, gamma=0, subsample=0.75,\n                           colsample_bytree=1, max_depth=7)\nregressor(xgb)",
      "execution_count": 7,
      "outputs": [
        {
          "output_type": "stream",
          "text": "Score:  0.85647707085 , rmse:  0.154590744958\n",
          "name": "stdout"
        }
      ]
    },
    {
      "metadata": {
        "_uuid": "beb7ef8b7ffc2f4c42f7d62da748cfdf983b1225",
        "_cell_guid": "52faa912-607e-41fc-86c2-6653dba12c5d",
        "trusted": true
      },
      "cell_type": "code",
      "source": "from sklearn.svm import SVR\nsvr = SVR()\nregressor(svr)",
      "execution_count": 8,
      "outputs": [
        {
          "output_type": "stream",
          "text": "Score:  0.779933986176 , rmse:  0.19142529887\n",
          "name": "stdout"
        }
      ]
    },
    {
      "metadata": {
        "collapsed": true,
        "_uuid": "3720fb2d1fc2dd797af828cdb5e93cfa71d1caaa",
        "_cell_guid": "ed5eb7ce-876e-4610-aca0-cfd3da6eb20a",
        "trusted": true
      },
      "cell_type": "code",
      "source": "",
      "execution_count": null,
      "outputs": []
    },
    {
      "metadata": {
        "_uuid": "a1790070e4422625f13421118e8bd93bfb0281ca",
        "_cell_guid": "fcbdd981-2c69-4384-8ea5-687f825569a9"
      },
      "cell_type": "markdown",
      "source": "# TensorFlow",
      "outputs": [],
      "execution_count": null
    },
    {
      "metadata": {
        "_uuid": "d65f0d07de62985c99ec488c33d27694ecb1d460",
        "_execution_state": "idle",
        "_cell_guid": "94da3fa3-f5d2-4259-ba05-b83dd92cd11c",
        "trusted": true
      },
      "cell_type": "code",
      "source": "import tensorflow as tf\ny_data = np.array([(y_train)])\ny_data = np.transpose(np.array(y_data))\n\ny_test_data = [(y_test)]\ny_test_data = np.transpose(np.array(y_test))\n\nX = tf.placeholder(tf.float32, shape=[None, 285])\nY = tf.placeholder(tf.float32, shape=[None, 1])\n\nbeta = 0.001\nh1 = 200\nh2 = 1\nh3 = 1\nwith tf.name_scope('layer1'):\n    w1 = tf.Variable(tf.random_normal([285,h1]))\n    b1 = tf.Variable(tf.random_normal([h1]))\n    l1 = tf.matmul(X,w1) + b1\n    l1 = tf.nn.relu(l1)\n    w2 = tf.Variable(tf.random_normal([h1,h2]))\n    b2 = tf.Variable(tf.random_normal([h2]))\n    l2 = tf.matmul(l1,w2) + b2\n#     l2 = tf.nn.relu(l2)\n#     w3 = tf.Variable(tf.random_normal([h2,h3]))\n#     b3 = tf.Variable(tf.random_normal([h3]))\n    hypothesis = l2 # tf.matmul(l2,w3) + b3\n\n    \n# cost = tf.reduce_mean(tf.square(hypothesis - Y))\n# cost = tf.metrics.root_mean_squared_error(hypothesis, Y))\ncost = tf.sqrt(tf.reduce_mean(tf.square(tf.subtract(Y,hypothesis))))\n# regularizer = tf.nn.l2_loss(w1)\n# cost = tf.reduce_mean(cost + beta * regularizer)\n# tf.metrics.root_mean_squared_error(Y, hypothesis)\noptimizer = tf.train.AdamOptimizer(learning_rate=0.1).minimize(cost)\n\nrmse = lambda x, y: np.sqrt(np.mean((x-y)**2))\n\nwith tf.Session() as sess:\n    sess.run(tf.global_variables_initializer())\n\n    for step in range(7001):\n        cost_val, hy_val,_= sess.run(\n            [cost, hypothesis, optimizer], feed_dict={X: X_train, Y: y_data})\n        if step % 500 == 0:\n#             print(\"train cost: \", tf.sqrt(tf.reduce_mean(tf.square(tf.subtract(y_data,hy_val)))).eval())\n            preds = sess.run(hypothesis, feed_dict={X: X_test})            \n            print(step)\n            print(\"train cost: \", cost_val)\n            print(\"test cost: \", tf.sqrt(tf.reduce_mean(tf.square(tf.subtract(y_test_data,preds)))).eval())\n\n    print(\"finished!\")",
      "execution_count": null,
      "outputs": [
        {
          "output_type": "stream",
          "text": "0\ntrain cost:  63.6942\ntest cost:  325.426298163\n",
          "name": "stdout"
        },
        {
          "output_type": "stream",
          "text": "500\ntrain cost:  0.245627\ntest cost:  0.730874551057\n",
          "name": "stdout"
        },
        {
          "output_type": "stream",
          "text": "1000\ntrain cost:  0.22862\ntest cost:  0.733986301792\n",
          "name": "stdout"
        },
        {
          "output_type": "stream",
          "text": "1500\ntrain cost:  0.216578\ntest cost:  0.740499730488\n",
          "name": "stdout"
        },
        {
          "output_type": "stream",
          "text": "2000\ntrain cost:  0.203468\ntest cost:  0.748080768247\n",
          "name": "stdout"
        },
        {
          "output_type": "stream",
          "text": "2500\ntrain cost:  0.190452\ntest cost:  0.742219597082\n",
          "name": "stdout"
        },
        {
          "output_type": "stream",
          "text": "3000\ntrain cost:  0.175333\ntest cost:  0.732586331794\n",
          "name": "stdout"
        },
        {
          "output_type": "stream",
          "text": "3500\ntrain cost:  0.160386\ntest cost:  0.722523700605\n",
          "name": "stdout"
        },
        {
          "output_type": "stream",
          "text": "4000\ntrain cost:  0.146167\ntest cost:  0.710025021213\n",
          "name": "stdout"
        },
        {
          "output_type": "stream",
          "text": "4500\ntrain cost:  0.134485\ntest cost:  0.702148774734\n",
          "name": "stdout"
        },
        {
          "output_type": "stream",
          "text": "5000\ntrain cost:  0.126857\ntest cost:  0.687966377363\n",
          "name": "stdout"
        },
        {
          "output_type": "stream",
          "text": "5500\ntrain cost:  0.121896\ntest cost:  0.678628298358\n",
          "name": "stdout"
        },
        {
          "output_type": "stream",
          "text": "6000\ntrain cost:  0.117855\ntest cost:  0.670262975933\n",
          "name": "stdout"
        },
        {
          "output_type": "stream",
          "text": "6500\ntrain cost:  0.115199\ntest cost:  0.663712139098\n",
          "name": "stdout"
        },
        {
          "output_type": "stream",
          "text": "7000\ntrain cost:  0.113112\ntest cost:  0.659373480486\nfinished!\n",
          "name": "stdout"
        }
      ]
    },
    {
      "metadata": {
        "_uuid": "283f6c802709b16e198b034442f82bf255769bf9",
        "collapsed": true,
        "_execution_state": "idle",
        "_cell_guid": "5aae2b1a-c194-4d4c-8dc0-02a727423976",
        "trusted": true
      },
      "cell_type": "code",
      "source": "",
      "execution_count": null,
      "outputs": []
    }
  ],
  "metadata": {
    "language_info": {
      "name": "python",
      "version": "3.6.1",
      "mimetype": "text/x-python",
      "codemirror_mode": {
        "name": "ipython",
        "version": 3
      },
      "pygments_lexer": "ipython3",
      "nbconvert_exporter": "python",
      "file_extension": ".py"
    },
    "kernelspec": {
      "display_name": "Python 3",
      "language": "python",
      "name": "python3"
    }
  },
  "nbformat": 4,
  "nbformat_minor": 1
}